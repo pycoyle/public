{
  "nbformat": 4,
  "nbformat_minor": 0,
  "metadata": {
    "kernelspec": {
      "name": "python3",
      "display_name": "Python 3"
    },
    "colab": {
      "name": "SimpleSwapTFF.ipynb",
      "provenance": [],
      "collapsed_sections": [
        "IAitjQOi-mR3",
        "sx0C2HkiRyF_",
        "PrEgbQgdRyGF",
        "Dec9wzm_RyGY",
        "aTrTDmExRyGw",
        "SjMfAwuaRyG8"
      ],
      "last_runtime": {
        "build_target": "",
        "kind": "local"
      }
    }
  },
  "cells": [
    {
      "cell_type": "markdown",
      "metadata": {
        "id": "Nn7Ht7ElRyFk",
        "colab_type": "text"
      },
      "source": [
        "Raj Subramani (19 March 2020) [raj@flumaion.com]\n",
        "\n",
        "Updated with TFF examples:\n",
        "Cyril Chimisov (31 March 2020) [cyrilchimisov@google.com]"
      ]
    },
    {
      "cell_type": "code",
      "metadata": {
        "id": "G6x7zt10RyFo",
        "colab_type": "code",
        "colab": {}
      },
      "source": [
        "import math\n",
        "import QuantLib as ql\n",
        "from QuantLib import *\n",
        "\n",
        "# Import TF and TFF\n",
        "import tensorflow.compat.v2 as tf\n",
        "tf.enable_v2_behavior()\n",
        "import tf_quant_finance as tff\n",
        "dates = tff.experimental.dates"
      ],
      "execution_count": 0,
      "outputs": []
    },
    {
      "cell_type": "markdown",
      "metadata": {
        "id": "fSkXabQrkNG1",
        "colab_type": "text"
      },
      "source": [
        "##### Below are some extra functions and objects that will be added to TFF \n",
        "\n",
        "These are \n",
        "\n",
        "  - `DepositCurve` object to fit a yield curve to a set of deposit rates;\n",
        "  - `get_fixings` helper to cpumpute the fixings at the specified times;\n",
        "  - `VanillaSwap` object to describe and fit a vanilla swap."
      ]
    },
    {
      "cell_type": "code",
      "metadata": {
        "id": "35YuMhuwkMYb",
        "colab_type": "code",
        "colab": {},
        "cellView": "form"
      },
      "source": [
        "#@title TFF DepositCurve object\n",
        "\n",
        "class DepositCurve:\n",
        "  \"\"\"Discounting curve object that performs fitting to the input deposits.\"\"\"\n",
        "  def __init__(self,\n",
        "               *,\n",
        "               calc_date,\n",
        "               deposit_rates,\n",
        "               settlement_days,\n",
        "               calendar,\n",
        "               day_count,\n",
        "               bussiness_convention,\n",
        "               periods=None,\n",
        "               maturity_dates=None,\n",
        "               dtype=None):\n",
        "    \"\"\"Initializer.\n",
        "    \n",
        "    Args:\n",
        "      calc_date: An instance of `DateTensor` of zero shape. The reference date\n",
        "        to which perform the discounting.\n",
        "      deposit_rates: A rank 1 `Tensor` of real `dtype`.\n",
        "      settlement_days: An integer `Tensor` with the shape broadcastable with\n",
        "        deposit_rates.\n",
        "      calendar: An instance of `dates.HolidayCalendar2`.\n",
        "      day_count: A daycount convention. One of `dates.daycounts`.\n",
        "      bussiness_convention: One of the `dates.BusinessDayConvention` business\n",
        "        day count conventions.\n",
        "      periods: An instance of `dates.periods.PeriodTensor`. Either this or\n",
        "        maturities of the deposit rates should be supplied. Determine the\n",
        "        maturities of the deposits.\n",
        "      maturity_dates: An instance of `DateTensor` with the shape broadcastable \n",
        "        with `deposit_rates`.\n",
        "      dtype: A `dtype` for the underlying real `Tensor`s.\n",
        "        Default value: None which maps to the `dtype` inferred by TensorFlow.\n",
        "    \"\"\"  \n",
        "    if ((maturity_dates is not None and periods is not None)\n",
        "        or (maturity_dates is None and periods is None)):\n",
        "      raise ValueError(\"Either `maturity_dates` or time `periods` shoud be \"\n",
        "                       \"supplied but not both.\")\n",
        "    self._calc_date = calc_date\n",
        "    self._deposit_rates = deposit_rates\n",
        "    self._periods = periods\n",
        "    self._settlement_days = settlement_days\n",
        "    self._calendar = calendar\n",
        "    self._day_count = day_count\n",
        "    self._maturity_dates = maturity_dates\n",
        "    self._dtype = dtype\n",
        "    self._bussiness_convention = bussiness_convention\n",
        "  \n",
        "  def get_value_dates(self):\n",
        "    \"\"\"Returns the value dates for deposits adjsuted for settlement dates.\"\"\"\n",
        "    return self._calendar.add_business_days(\n",
        "        self._calc_date, self._settlement_days,\n",
        "        roll_convention=self._bussiness_convention)\n",
        "\n",
        "  def get_maturity_dates(self):\n",
        "    \"\"\"Returns the maturity dates for deposits adjsuted for settlement dates.\"\"\"\n",
        "    if self._periods is None:\n",
        "      return self._calendar.add_business_days(\n",
        "          self._maturity_dates, self._settlement_days,\n",
        "          roll_convention=self._bussiness_convention)\n",
        "    else:\n",
        "      return self._calendar.add_period_and_roll(\n",
        "         self.get_value_dates(), self._periods,\n",
        "         roll_convention=self._bussiness_convention)\n",
        "    \n",
        "  def get_nodes(self):\n",
        "    \"\"\"Computes the interpolation nodes for the discounting curve.\n",
        "    \n",
        "    Log-linear interpolation is assumed. All `get_value_dates()` should be\n",
        "    less than `min(get_maturity_dates())`. Also, it is assumed that\n",
        "    `min(get_maturity_dates()) = get_maturity_dates()[0]`. The `nodes` are\n",
        "    the time points between which the discounting function is log-linear.\n",
        "\n",
        "    Returns:\n",
        "      A 2-tuple of node dates and the corresponding values.\n",
        "    \"\"\"\n",
        "    value_dates = self.get_value_dates()\n",
        "    maturity_dates = self.get_maturity_dates()\n",
        "    year_fractions = self._day_count(\n",
        "        start_date=value_dates, end_date=maturity_dates, dtype=self._dtype) \n",
        "    effective_yields = 1 + rates * year_fractions\n",
        "    # Coefficient `beta` such that\n",
        "    # log(disc(t)) = beta * t for t <= min(maturity_dates) \n",
        "    beta = -tf.math.log(effective_yields[0]) / year_fractions[0]\n",
        "    initial_discounts = tf.math.exp(\n",
        "        beta * self._day_count(start_date=calc_date_tf,\n",
        "                               end_date=value_dates, dtype=self._dtype))\n",
        "    nodes = initial_discounts / effective_yields\n",
        "    node_dates = dates.DateTensor.concat([self._calc_date.expand_dims(0),\n",
        "                                          maturity_dates], axis=0)\n",
        "    nodes_vals = tf.concat([[1.], nodes], axis=0)\n",
        "    return node_dates, nodes_vals\n",
        "\n",
        "  def discount(self, date_tensor=None, t=None):\n",
        "    \"\"\"Discounting function that accepts either DateTensor or real Tensor.\"\"\"\n",
        "    if date_tensor is None and t is None:\n",
        "      raise ValueError(\"Either `date_tensor` or time `t` shoud be supplied.\")\n",
        "    if date_tensor is not None and t is not None: \n",
        "      raise ValueError(\"Either `date_tensor` or time `t` shoud be supplied \"\n",
        "                       \"but not both.\")\n",
        "    node_dates, node_vals = self.get_nodes()\n",
        "    if t is None:\n",
        "      x = self._day_count(\n",
        "         start_date=self._calc_date, end_date=date_tensor, dtype=self._dtype)\n",
        "    else:\n",
        "      x = tf.convert_to_tensor(t)\n",
        "    if not x.shape.as_list():\n",
        "      x = tf.expand_dims(x, axis=-1)\n",
        "    x_data = self._day_count(\n",
        "        start_date=self._calc_date, end_date=node_dates, dtype=self._dtype)\n",
        "    y_data = tf.math.log(node_vals)\n",
        "    interpolated_values = tff.math.interpolation.linear.interpolate(\n",
        "        x=x,\n",
        "        x_data=x_data,\n",
        "        y_data=y_data)\n",
        "    return tf.math.exp(interpolated_values)\n",
        "\n"
      ],
      "execution_count": 0,
      "outputs": []
    },
    {
      "cell_type": "code",
      "metadata": {
        "id": "gKmY0rjYmrgu",
        "colab_type": "code",
        "colab": {},
        "cellView": "form"
      },
      "source": [
        "#@title TFF Fixing funtion and VanillaSwap class\n",
        "\n",
        "def get_fixings(*, dates_tensor, discount_fn, day_count, dtype):\n",
        "  \"\"\"Computes fixings implied by the input dates tensor and a discounting curve.\n",
        "\n",
        "  Given dates `[d1, d2, .. , dn]` computes forward rates `fwd_rates` between\n",
        "  `[d_i, d_{i+1}]` for `i=0,..., n-1` and returns the corresponding deposit\n",
        "  rates defined as `1 + deposit_rates * day_count(d_i, d_{i+1}) = fwd_rates`.\n",
        "\n",
        "  Args:\n",
        "    dates_tensor: `DateTensor` of shape `[batch_shape, num_dates]`.\n",
        "    discount_fn: A callable that maps `DateTensor` to a real number of `dtype`\n",
        "      which corresponds to discounting.\n",
        "    day_count: A daycounting function.\n",
        "    dtype: Output `dtype`.\n",
        "  \n",
        "  Returns:\n",
        "    A `Tensor` of the specified `dtype` and of shape\n",
        "    `[batch_shape, num_dates - 1]` that correponds to the deposit rates at\n",
        "    `dates_tensor[1:]`.\n",
        "  \"\"\" \n",
        "  start_dates = dates_tensor[..., :-1]\n",
        "  end_dates = dates_tensor[..., 1:]\n",
        "  disc_start = discount_fn(start_dates)\n",
        "  disc_end = discount_fn(end_dates)\n",
        "  t = day_count(start_date=start_dates, end_date=end_dates, dtype=dtype)\n",
        "  fixings = tf.where(t > 1e-8,\n",
        "                     (disc_start/disc_end - 1.0) / t,\n",
        "                     0.0)\n",
        "  return fixings\n",
        "\n",
        "class VanillaSwap:\n",
        "  \"\"\"Simple interest rate swap.\"\"\"\n",
        "  def __init__(self,\n",
        "               *,\n",
        "               calc_date,\n",
        "               fixed_leg_dates,\n",
        "               float_leg_dates,\n",
        "               fixed_leg_rates,\n",
        "               float_leg_rates,\n",
        "               notional,\n",
        "               day_count,\n",
        "               discount_fn,\n",
        "               dtype=None):\n",
        "    \"\"\"Initializer.\n",
        "    \n",
        "    Args:\n",
        "      calc_date: An instance of `DateTensor` of zero shape. The reference date\n",
        "        to which perform the discounting.\n",
        "      fixed_leg_dates: A `DateTensor` of shape `[batch_shape, n]` representing\n",
        "        the cashflow dates of the fixed leg including the `calc_date` as the\n",
        "        first entry for each swap in the batch.\n",
        "      float_leg_dates: A `DateTensor` of shape `[batch_shape, n]` representing\n",
        "        the cashflow dates of the float leg including the `calc_date` as the\n",
        "        first entry for each swap in the batch. \n",
        "      fixed_leg_rates: A real `Tensor` of shape brodcastable with\n",
        "        `[batch_shape, n]` representing the fixed rates of the swap.\n",
        "      float_leg_rates: A real `Tensor` of shape brodcastable with\n",
        "        `[batch_shape, n]` and of the same dtype as `fixed_leg_rates`.\n",
        "        Represents the float rates of the swap.\n",
        "      notional: A real `Tensor` of shape brodcastable with `[batch_shape, n]`\n",
        "        and of the same dtype as `fixed_leg_rates`. Represents the notional of\n",
        "        the swap.\n",
        "      day_count: A daycount convention. One of `dates.daycounts`.\n",
        "      discount_fn: A callable that maps `DateTensor` to a real number of the\n",
        "        same `dtype` as `fixed_leg_rates` which corresponds to the discounting\n",
        "        function.\n",
        "      dtype: A `dtype` for the underlying real `Tensor`s.\n",
        "        Default value: None which maps to the `dtype` inferred by TensorFlow.\n",
        "    \"\"\"  \n",
        "    self._calc_date = calc_date\n",
        "    self._fixed_leg_dates= fixed_leg_dates\n",
        "    self._float_leg_dates = float_leg_dates\n",
        "    self._fixed_leg_rates = fixed_leg_rates\n",
        "    self._float_leg_rates = float_leg_rates\n",
        "    self._notional = notional\n",
        "    self._day_count = day_count\n",
        "    self._discount_fn = discount_fn\n",
        "    self._dtype = dtype\n",
        "\n",
        "  def fixed_cashflows(self):\n",
        "    \"\"\"Returns all fixed cashflows at `fixed_leg_dates`.\"\"\"\n",
        "    start_dates = self._fixed_leg_dates[:-1]\n",
        "    end_dates = self._fixed_leg_dates[1:]\n",
        "    t = self._day_count(\n",
        "        start_date=start_dates, end_date=end_dates, dtype=self._dtype)\n",
        "    return notional * self._fixed_leg_rates * t\n",
        "\n",
        "  def float_cashflows(self):\n",
        "    \"\"\"Returns all float cashflows at `float_leg_dates`.\"\"\"\n",
        "    start_dates = self._float_leg_dates[:-1]\n",
        "    end_dates = self._float_leg_dates[1:]\n",
        "    t = self._day_count(\n",
        "        start_date=start_dates, end_date=end_dates, dtype=self._dtype)\n",
        "    return notional * self._float_leg_rates * t\n",
        "\n",
        "  def float_leg_present_value(self):\n",
        "    \"\"\"Returns the value of the float leg discounted to `self.calc_date`.\"\"\"\n",
        "    payment_dates = self._float_leg_dates[1:]\n",
        "    cashflows = self.float_cashflows()\n",
        "    return tf.reduce_sum(cashflows * self._discount_fn(payment_dates), -1)\n",
        "\n",
        "  def fixed_leg_present_value(self):\n",
        "    \"\"\"Returns the value of the fixed leg discounted to `self.calc_date`.\"\"\"\n",
        "    payment_dates = self._fixed_leg_dates[1:]\n",
        "    cashflows = self.fixed_cashflows()\n",
        "    return tf.reduce_sum(cashflows * self._discount_fn(payment_dates))\n",
        "\n",
        "  def price(self):\n",
        "    \"\"\"Returns the value of the swap discounted to `self.calc_date`.\"\"\"\n",
        "    return self.float_leg_present_value() - self.fixed_leg_present_value()\n"
      ],
      "execution_count": 0,
      "outputs": []
    },
    {
      "cell_type": "markdown",
      "metadata": {
        "id": "irHGNLGCRyFw",
        "colab_type": "text"
      },
      "source": [
        "### Construct Yield, Index, Forward and Discount Curves"
      ]
    },
    {
      "cell_type": "code",
      "metadata": {
        "id": "ON_CsKvYRyFy",
        "colab_type": "code",
        "outputId": "96b31afa-e8b6-4d8f-b392-23a888b8fbc6",
        "executionInfo": {
          "status": "ok",
          "timestamp": 1585641719018,
          "user_tz": -60,
          "elapsed": 473,
          "user": {
            "displayName": "Cyril Chimisov",
            "photoUrl": "",
            "userId": "02803093032097482871"
          }
        },
        "colab": {
          "height": 323
        }
      },
      "source": [
        "calc_date = ql.Date(9,9,2015)\n",
        "ql.Settings.instance().evaluationDate = calc_date\n",
        "ust_mat=[ql.Period(3, ql.Months),\n",
        "         ql.Period(6, ql.Months),\n",
        "         ql.Period(9, ql.Months),\n",
        "         ql.Period(1, ql.Years),\n",
        "         ql.Period(2, ql.Years)]\n",
        "ust_rates=[0.0004, 0.0025, 0.0032, 0.004, 0.0075]\n",
        "calendar = ql.WeekendsOnly()\n",
        "bussiness_convention = ql.Unadjusted\n",
        "day_count = ql.Actual360()\n",
        "end_of_month = False  # TFF does not support that yet\n",
        "settlement_days = 2\n",
        "\n",
        "rate_helpers = [ql.DepositRateHelper(\n",
        "    ql.QuoteHandle(ql.SimpleQuote(r)),\n",
        "    m,\n",
        "    settlement_days,\n",
        "    calendar,\n",
        "    bussiness_convention,\n",
        "    end_of_month,\n",
        "    day_count\n",
        "    )\n",
        "    for r,m in zip(ust_rates, ust_mat)\n",
        "   ]\n",
        "\n",
        "discount_curve = ql.PiecewiseLogLinearDiscount(calc_date, rate_helpers, day_count)\n",
        "forward_curve = ql.PiecewiseFlatForward(calc_date, rate_helpers, day_count)\n",
        "\n",
        "\n",
        "\n",
        "\n",
        "swap_pricing_libor_curve = ql.RelinkableYieldTermStructureHandle()\n",
        "swap_pricing_libor_curve.linkTo(discount_curve)\n",
        "libor_3M_index = ql.USDLibor(ql.Period(3, Months), swap_pricing_libor_curve)\n",
        "\n",
        "print(\"\\nForward Curve\")\n",
        "for n in forward_curve.nodes():\n",
        "    print (n)\n",
        "print(\"\\nDiscount Curve\")\n",
        "for n in discount_curve.nodes():\n",
        "    print (n)\n",
        "\n",
        "total_days = calendar.businessDaysBetween(calc_date,ql.Date(7,1,2016))\n",
        "print(\"\\ntotal days: \", total_days)\n"
      ],
      "execution_count": 674,
      "outputs": [
        {
          "output_type": "stream",
          "text": [
            "\n",
            "Forward Curve\n",
            "(Date(9,9,2015), 0.00039997977913916704)\n",
            "(Date(11,12,2015), 0.00039997977913916704)\n",
            "(Date(11,3,2016), 0.004596863158475467)\n",
            "(Date(11,6,2016), 0.004576318213765027)\n",
            "(Date(11,9,2016), 0.0063619267705553335)\n",
            "(Date(11,9,2017), 0.010904495522554111)\n",
            "\n",
            "Discount Curve\n",
            "(Date(9,9,2015), 1.0)\n",
            "(Date(11,12,2015), 0.9998966772286497)\n",
            "(Date(11,3,2016), 0.9987354872073664)\n",
            "(Date(11,6,2016), 0.9975681452543673)\n",
            "(Date(11,9,2016), 0.995947591022429)\n",
            "(Date(11,9,2017), 0.9849970929971511)\n",
            "\n",
            "total days:  86\n"
          ],
          "name": "stdout"
        }
      ]
    },
    {
      "cell_type": "markdown",
      "metadata": {
        "id": "IAitjQOi-mR3",
        "colab_type": "text"
      },
      "source": [
        "#### TFF alternative\n"
      ]
    },
    {
      "cell_type": "code",
      "metadata": {
        "id": "b18NXw5D8vUI",
        "colab_type": "code",
        "colab": {
          "height": 306
        },
        "outputId": "5f4ce089-b252-46ce-893d-b3f8d9d03e5b",
        "executionInfo": {
          "status": "ok",
          "timestamp": 1585641727395,
          "user_tz": -60,
          "elapsed": 135,
          "user": {
            "displayName": "Cyril Chimisov",
            "photoUrl": "",
            "userId": "02803093032097482871"
          }
        }
      },
      "source": [
        "# Calculation date presented as a DateTensor\n",
        "calc_date_tf = dates.from_year_month_day(2015, 9, 9)\n",
        "# Corresponding ql.WeekendsOnly calendar\n",
        "calendar_tf = dates.HolidayCalendar2(\n",
        "    weekend_mask=dates.WeekendMask.SATURDAY_SUNDAY)\n",
        "# Actual360 day count convention\n",
        "day_count_tf = dates.daycounts.actual_360\n",
        "# Business day convention\n",
        "bussiness_convention_tf = dates.BusinessDayConvention.NONE\n",
        "# Dtype of the discounting\n",
        "dtype = tf.float64\n",
        "# Input deposit rates\n",
        "deposit_rates = tf.convert_to_tensor(\n",
        "    [0.0004, 0.0025, 0.0032, 0.004, 0.0075], dtype=dtype)\n",
        "# Corresponding periods for maturities\n",
        "periods = dates.periods.months([3, 6, 9, 12, 24])\n",
        "# Settlement dates\n",
        "settlement_days = 2\n",
        "# Create discount curve object\n",
        "discount_curve_tf = DepositCurve(\n",
        "    calc_date=calc_date_tf,\n",
        "    deposit_rates=deposit_rates,\n",
        "    periods=periods,\n",
        "    settlement_days=settlement_days,\n",
        "    calendar=calendar_tf,\n",
        "    day_count=day_count_tf,\n",
        "    bussiness_convention=bussiness_convention_tf,\n",
        "    dtype=dtype)\n",
        "# Compute the interpolation nodes \n",
        "node_dates, node_vals = discount_curve_tf.get_nodes()\n",
        "node_dates_ql, node_vals_ql = list(zip(*discount_curve.nodes()))\n",
        "print(\"Node dates (TFF):\\n\", node_dates, \"\\n\")\n",
        "print(\"Node dates (QL):\\n\", node_dates_ql, \"\\n\")\n",
        "print(\"---------------------------\")\n",
        "print(\"Node values (TFF):\\n\", node_vals.numpy().tolist(), \"\\n\")\n",
        "print(\"Node values (QL):\\n\", node_vals_ql)"
      ],
      "execution_count": 675,
      "outputs": [
        {
          "output_type": "stream",
          "text": [
            "Node dates (TFF):\n",
            " DateTensor: shape=(6,), contents=array([[2015,    9,    9],\n",
            "       [2015,   12,   11],\n",
            "       [2016,    3,   11],\n",
            "       [2016,    6,   11],\n",
            "       [2016,    9,   11],\n",
            "       [2017,    9,   11]], dtype=int32) \n",
            "\n",
            "Node dates (QL):\n",
            " (Date(9,9,2015), Date(11,12,2015), Date(11,3,2016), Date(11,6,2016), Date(11,9,2016), Date(11,9,2017)) \n",
            "\n",
            "---------------------------\n",
            "Node values (TFF):\n",
            " [1.0, 0.9998966772285539, 0.9987354872073644, 0.9975681452543653, 0.9959475910224269, 0.9849970929971491] \n",
            "\n",
            "Node values (QL):\n",
            " (1.0, 0.9998966772286497, 0.9987354872073664, 0.9975681452543673, 0.995947591022429, 0.9849970929971511)\n"
          ],
          "name": "stdout"
        }
      ]
    },
    {
      "cell_type": "code",
      "metadata": {
        "id": "_smcdz2cDVpC",
        "colab_type": "code",
        "colab": {
          "height": 51
        },
        "outputId": "9e5d6481-00a7-451c-976c-d582090e5166",
        "executionInfo": {
          "status": "ok",
          "timestamp": 1585641730722,
          "user_tz": -60,
          "elapsed": 85,
          "user": {
            "displayName": "Cyril Chimisov",
            "photoUrl": "",
            "userId": "02803093032097482871"
          }
        }
      },
      "source": [
        "# Sanity check (interpolation)\n",
        "print(\"TF discount: \", discount_curve_tf.discount(\n",
        "    calendar_tf.add_business_days(calc_date_tf, [150])).numpy()[0],\n",
        "      \"\\nQL discount: \", discount_curve.discount(\n",
        "          calendar.advance(calc_date, Period(150, Days))))"
      ],
      "execution_count": 676,
      "outputs": [
        {
          "output_type": "stream",
          "text": [
            "TF discount:  0.9984054478168319 \n",
            "QL discount:  0.9984054478168339\n"
          ],
          "name": "stdout"
        }
      ]
    },
    {
      "cell_type": "code",
      "metadata": {
        "id": "jwSO9z5WEoOj",
        "colab_type": "code",
        "colab": {
          "height": 51
        },
        "outputId": "11499ce7-aaa9-4d91-97d4-0c1f283eb8f1",
        "executionInfo": {
          "status": "ok",
          "timestamp": 1585641731008,
          "user_tz": -60,
          "elapsed": 55,
          "user": {
            "displayName": "Cyril Chimisov",
            "photoUrl": "",
            "userId": "02803093032097482871"
          }
        }
      },
      "source": [
        "# Sanity check (interpolation)\n",
        "print(\"TF discount: \", discount_curve_tf.discount(\n",
        "    calendar_tf.add_business_days(calc_date_tf, [432])).numpy()[0],\n",
        "      \"\\nQL discount: \", discount_curve.discount(\n",
        "          calendar.advance(calc_date, Period(432, Days))))"
      ],
      "execution_count": 677,
      "outputs": [
        {
          "output_type": "stream",
          "text": [
            "TF discount:  0.9888534435342962 \n",
            "QL discount:  0.9888534435342982\n"
          ],
          "name": "stdout"
        }
      ]
    },
    {
      "cell_type": "markdown",
      "metadata": {
        "id": "tvJ7cDJuRyF5",
        "colab_type": "text"
      },
      "source": [
        "### Define Swap (Monocurrency, 3m Libor), Fixed rate = 0.039, Spread=0.0"
      ]
    },
    {
      "cell_type": "code",
      "metadata": {
        "id": "oCnMpF_aRyF6",
        "colab_type": "code",
        "outputId": "79c7ca23-837a-4ab1-d737-1c090c8da0b1",
        "colab": {
          "height": 102
        },
        "executionInfo": {
          "status": "ok",
          "timestamp": 1585641760234,
          "user_tz": -60,
          "elapsed": 92,
          "user": {
            "displayName": "Cyril Chimisov",
            "photoUrl": "",
            "userId": "02803093032097482871"
          }
        }
      },
      "source": [
        "notional=1000000\n",
        "fixed_rate = 0.0039\n",
        "fixed_leg_dcc = day_count\n",
        "float_spread = 0.0\n",
        "float_leg_dcc = day_count\n",
        "\n",
        "settlement_date = calendar.advance(calc_date, ql.Period(settlement_days, Days))\n",
        "maturity_date = calendar.advance(settlement_date, ql.Period(1, Years))\n",
        "print(settlement_date)\n",
        "print(maturity_date)\n",
        "\n",
        "fixed_leg_tenor = ql.Period(3, ql.Months)\n",
        "float_leg_tenor = ql.Period(3, ql.Months)\n",
        "\n",
        "fixed_leg_schedule = ql.Schedule(\n",
        "    settlement_date, \n",
        "    maturity_date, \n",
        "    fixed_leg_tenor, \n",
        "    calendar, \n",
        "    ql.ModifiedFollowing, \n",
        "    ql.ModifiedFollowing,\n",
        "    ql.DateGeneration.Forward, \n",
        "    False)\n",
        "\n",
        "float_leg_schedule = ql.Schedule(\n",
        "    settlement_date, \n",
        "    maturity_date, \n",
        "    float_leg_tenor, \n",
        "    calendar, \n",
        "    ql.ModifiedFollowing, \n",
        "    ql.ModifiedFollowing,\n",
        "    ql.DateGeneration.Forward, \n",
        "    False)\n",
        "\n",
        "ir_swap = ql.VanillaSwap(ql.VanillaSwap.Payer, \n",
        "                         notional, \n",
        "                         fixed_leg_schedule, \n",
        "                         fixed_rate, \n",
        "                         fixed_leg_dcc,\n",
        "                         float_leg_schedule,\n",
        "                         libor_3M_index,\n",
        "                         float_spread,\n",
        "                         float_leg_dcc\n",
        "                        )\n",
        "\n",
        "swap_engine = ql.DiscountingSwapEngine(swap_pricing_libor_curve)\n",
        "ir_swap.setPricingEngine(swap_engine)\n",
        "\n",
        "print (ir_swap.NPV())\n",
        "print(ir_swap.fairRate())\n",
        "print(calendar.businessDaysBetween(settlement_date,maturity_date))\n",
        "\n"
      ],
      "execution_count": 681,
      "outputs": [
        {
          "output_type": "stream",
          "text": [
            "September 11th, 2015\n",
            "September 12th, 2016\n",
            "112.4061367708573\n",
            "0.004010481275521539\n",
            "261\n"
          ],
          "name": "stdout"
        }
      ]
    },
    {
      "cell_type": "code",
      "metadata": {
        "id": "laioE_6Mcf0n",
        "colab_type": "code",
        "colab": {
          "height": 85
        },
        "outputId": "85fab165-c083-487f-f1ad-8bd8ab63cdab",
        "executionInfo": {
          "status": "ok",
          "timestamp": 1585641777615,
          "user_tz": -60,
          "elapsed": 62,
          "user": {
            "displayName": "Cyril Chimisov",
            "photoUrl": "",
            "userId": "02803093032097482871"
          }
        }
      },
      "source": [
        "# Float rate cashflows\n",
        "for i, cf in enumerate(ir_swap.leg(1)):\n",
        "    print (\"%2d    %-18s  %10.2f\"%(i+1, cf.date(), cf.amount()))"
      ],
      "execution_count": 684,
      "outputs": [
        {
          "output_type": "stream",
          "text": [
            " 1    December 11th, 2015      101.11\n",
            " 2    March 11th, 2016       1162.66\n",
            " 3    June 13th, 2016        1205.57\n",
            " 4    September 12th, 2016     1622.09\n"
          ],
          "name": "stdout"
        }
      ]
    },
    {
      "cell_type": "code",
      "metadata": {
        "id": "8LaDaOAq31VO",
        "colab_type": "code",
        "colab": {
          "height": 85
        },
        "outputId": "5cf11955-2d60-4cdf-d83b-a99ba882cc08",
        "executionInfo": {
          "status": "ok",
          "timestamp": 1585641778230,
          "user_tz": -60,
          "elapsed": 117,
          "user": {
            "displayName": "Cyril Chimisov",
            "photoUrl": "",
            "userId": "02803093032097482871"
          }
        }
      },
      "source": [
        "# Fixed rate cashflows\n",
        "for i, cf in enumerate(ir_swap.leg(0)):\n",
        "    print (\"%2d    %-18s  %10.2f\"%(i+1, cf.date(), cf.amount()))"
      ],
      "execution_count": 685,
      "outputs": [
        {
          "output_type": "stream",
          "text": [
            " 1    December 11th, 2015      985.83\n",
            " 2    March 11th, 2016        985.83\n",
            " 3    June 13th, 2016        1018.33\n",
            " 4    September 12th, 2016      985.83\n"
          ],
          "name": "stdout"
        }
      ]
    },
    {
      "cell_type": "markdown",
      "metadata": {
        "id": "yifPUiQnmj5V",
        "colab_type": "text"
      },
      "source": [
        "##### TFF alternative"
      ]
    },
    {
      "cell_type": "code",
      "metadata": {
        "id": "JkRvjow6iREc",
        "colab_type": "code",
        "colab": {}
      },
      "source": [
        "\n",
        "# Create the TFF VanillaSwap\n",
        "period = dates.periods.years(1)\n",
        "bussiness_convention_tf = dates.BusinessDayConvention.MODIFIED_FOLLOWING\n",
        "# Start date of the swap\n",
        "start_date = calendar_tf.add_business_days(\n",
        "    calc_date_tf, settlement_days, roll_convention=bussiness_convention_tf)\n",
        "# Maturity date of the swap\n",
        "end_date = calendar_tf.add_period_and_roll(\n",
        "    start_date, period, roll_convention=bussiness_convention_tf)\n",
        "# Exchange schedules\n",
        "schedule = dates.PeriodicSchedule(\n",
        "    start_date=start_date, end_date=end_date,\n",
        "    tenor=dates.periods.months(3), roll_convention=bussiness_convention_tf)\n",
        "schedule_dates = calendar_tf.roll_to_business_day(schedule.dates(),\n",
        "                                                  bussiness_convention_tf)\n",
        "# Compute the float let rates\n",
        "float_leg_rates = get_fixings(dates_tensor=dates_tensor,\n",
        "        day_count=day_count_tf,\n",
        "        discount_fn=discount_curve_tf.discount,\n",
        "        dtype=dtype)\n",
        "# Create a swap object (can price a batch of swaps)\n",
        "swap_tf = VanillaSwap(\n",
        "    calc_date=calc_date_tf,\n",
        "    fixed_leg_dates=schedule_dates,\n",
        "    float_leg_dates=schedule_dates,\n",
        "    fixed_leg_rates=0.0039,\n",
        "    float_leg_rates=float_leg_rates,\n",
        "    notional=1000000,\n",
        "    day_count=day_count_tf,\n",
        "    discount_fn=discount_curve_tf.discount,\n",
        "    dtype=dtype)"
      ],
      "execution_count": 0,
      "outputs": []
    },
    {
      "cell_type": "code",
      "metadata": {
        "id": "b6k9ZOPHTTug",
        "colab_type": "code",
        "colab": {
          "height": 102
        },
        "outputId": "e3cb01fa-501e-476c-e778-60ec50c507bb",
        "executionInfo": {
          "status": "ok",
          "timestamp": 1585642026145,
          "user_tz": -60,
          "elapsed": 185,
          "user": {
            "displayName": "Cyril Chimisov",
            "photoUrl": "",
            "userId": "02803093032097482871"
          }
        }
      },
      "source": [
        "# Float rate cashflows\n",
        "print(\"                              QuantLib     TFF\")\n",
        "for i, (ql_leg, tff_leg) in enumerate(zip(ir_swap.leg(1),\n",
        "                                          swap_tf.float_cashflows().numpy())):\n",
        "    print (\"%2d    %-18s  %10.2f  %10.2f\"%(i+1, ql_leg.date(),\n",
        "                                           ql_leg.amount(), tff_leg))"
      ],
      "execution_count": 697,
      "outputs": [
        {
          "output_type": "stream",
          "text": [
            "                              QuantLib     TFF\n",
            " 1    December 11th, 2015      101.11      101.11\n",
            " 2    March 11th, 2016       1162.66     1162.66\n",
            " 3    June 13th, 2016        1205.57     1205.57\n",
            " 4    September 12th, 2016     1622.09     1622.09\n"
          ],
          "name": "stdout"
        }
      ]
    },
    {
      "cell_type": "code",
      "metadata": {
        "id": "fcaDoTc5UXtm",
        "colab_type": "code",
        "colab": {
          "height": 102
        },
        "outputId": "72fb55fe-29dd-4859-ae1a-4a46e31e617f",
        "executionInfo": {
          "status": "ok",
          "timestamp": 1585642029162,
          "user_tz": -60,
          "elapsed": 55,
          "user": {
            "displayName": "Cyril Chimisov",
            "photoUrl": "",
            "userId": "02803093032097482871"
          }
        }
      },
      "source": [
        "# Fixed rate cashflows\n",
        "print(\"                              QuantLib     TFF\")\n",
        "for i, (ql_leg, tff_leg) in enumerate(zip(ir_swap.leg(0),\n",
        "                                          swap_tf.fixed_cashflows().numpy())):\n",
        "    print (\"%2d    %-18s  %10.2f  %10.2f\"%(i+1, ql_leg.date(),\n",
        "                                           ql_leg.amount(), tff_leg))"
      ],
      "execution_count": 698,
      "outputs": [
        {
          "output_type": "stream",
          "text": [
            "                              QuantLib     TFF\n",
            " 1    December 11th, 2015      985.83      985.83\n",
            " 2    March 11th, 2016        985.83      985.83\n",
            " 3    June 13th, 2016        1018.33     1018.33\n",
            " 4    September 12th, 2016      985.83      985.83\n"
          ],
          "name": "stdout"
        }
      ]
    },
    {
      "cell_type": "code",
      "metadata": {
        "id": "XHofDzQqTrYP",
        "colab_type": "code",
        "colab": {
          "height": 170
        },
        "outputId": "2d0c79cd-05bf-4661-ccf8-7fc9eed5492e",
        "executionInfo": {
          "status": "ok",
          "timestamp": 1585642030796,
          "user_tz": -60,
          "elapsed": 121,
          "user": {
            "displayName": "Cyril Chimisov",
            "photoUrl": "",
            "userId": "02803093032097482871"
          }
        }
      },
      "source": [
        "# Swap price comparison\n",
        "print(\"TFF float leg price: \", swap_tf.float_leg_present_value().numpy())\n",
        "print(\"QL float leg price: \", ir_swap.floatingLegNPV())\n",
        "print(\"-----------------------------\")\n",
        "print(\"TFF fixed leg price: \", swap_tf.fixed_leg_present_value().numpy())\n",
        "print(\"QL fixed leg price: \", ir_swap.fixedLegNPV())\n",
        "print(\"-----------------------------\")\n",
        "print(\"TFF swap price: \", swap_tf.price().numpy())\n",
        "print(\"QL swap price: \", ir_swap.NPV())\n",
        "print(\"Relative error: \",\n",
        "      abs(swap_tf.price().numpy() - ir_swap.NPV()) / ir_swap.NPV())"
      ],
      "execution_count": 699,
      "outputs": [
        {
          "output_type": "stream",
          "text": [
            "TFF float leg price:  4080.353930067805\n",
            "QL float leg price:  4080.353930067715\n",
            "-----------------------------\n",
            "TFF fixed leg price:  3967.9477932970226\n",
            "QL fixed leg price:  -3967.9477932968575\n",
            "-----------------------------\n",
            "TFF swap price:  112.40613677078227\n",
            "QL swap price:  112.4061367708573\n",
            "Relative error:  6.675197195792241e-13\n"
          ],
          "name": "stdout"
        }
      ]
    },
    {
      "cell_type": "markdown",
      "metadata": {
        "id": "sx0C2HkiRyF_",
        "colab_type": "text"
      },
      "source": [
        "### Valuation date 9th September 2015"
      ]
    },
    {
      "cell_type": "code",
      "metadata": {
        "id": "bUSicxPrRyGA",
        "colab_type": "code",
        "outputId": "e2186589-5a1e-4ecf-80f9-1fc4c6f1f1f8",
        "colab": {}
      },
      "source": [
        "import pandas as pd\n",
        "col01='Days in payment leg'\n",
        "col02='Payment Fraction'\n",
        "col03='Forward rate'\n",
        "col04='Discount rate'\n",
        "col05='Calculated Fix C/flow'\n",
        "col06='QL Fix C/flow'\n",
        "col07='Fix diff'\n",
        "col08='Calculated Float C/flow'\n",
        "col09='QL Float C/flow'\n",
        "col10='Float diff'\n",
        "df = pd.DataFrame(columns=[col01, col02, col03, col04, col05, col06, col07, col08, col09, col10])\n",
        "\n",
        "previous_payment_date = settlement_date\n",
        "total_days = calendar.businessDaysBetween(settlement_date, maturity_date)\n",
        "for fix, flt in zip(ir_swap.leg(0),ir_swap.leg(1)):\n",
        "    elapsed_days = int(calendar.businessDaysBetween(previous_payment_date, flt.date()))\n",
        "    forward_rate = forward_curve.forwardRate(previous_payment_date, flt.date(), day_count, ql.Compounded).rate()\n",
        "    payment_fraction = elapsed_days/total_days\n",
        "    equiv_fwd_rate = forward_rate * payment_fraction\n",
        "    discount_rate = forward_curve.discount(flt.date())\n",
        "    calculated_fixed_cash_flow = notional * fixed_rate * payment_fraction * discount_rate\n",
        "    calculated_float_cash_flow = notional * equiv_fwd_rate * discount_rate\n",
        "    df.loc[fix.date()] = [\n",
        "        elapsed_days, \n",
        "        payment_fraction, \n",
        "        forward_rate, \n",
        "        discount_rate,\n",
        "        calculated_fixed_cash_flow,\n",
        "        fix.amount(),\n",
        "        (fix.amount() - calculated_fixed_cash_flow),\n",
        "        calculated_float_cash_flow,\n",
        "        flt.amount(),\n",
        "        (flt.amount() - calculated_float_cash_flow),\n",
        "   ]\n",
        "    \n",
        "    previous_payment_date = flt.date()\n",
        "df\n",
        "    \n",
        "    "
      ],
      "execution_count": 0,
      "outputs": [
        {
          "output_type": "execute_result",
          "data": {
            "text/html": [
              "<div>\n",
              "<style scoped>\n",
              "    .dataframe tbody tr th:only-of-type {\n",
              "        vertical-align: middle;\n",
              "    }\n",
              "\n",
              "    .dataframe tbody tr th {\n",
              "        vertical-align: top;\n",
              "    }\n",
              "\n",
              "    .dataframe thead th {\n",
              "        text-align: right;\n",
              "    }\n",
              "</style>\n",
              "<table border=\"1\" class=\"dataframe\">\n",
              "  <thead>\n",
              "    <tr style=\"text-align: right;\">\n",
              "      <th></th>\n",
              "      <th>Days in payment leg</th>\n",
              "      <th>Payment Fraction</th>\n",
              "      <th>Forward rate</th>\n",
              "      <th>Discount rate</th>\n",
              "      <th>Calculated Fix C/flow</th>\n",
              "      <th>QL Fix C/flow</th>\n",
              "      <th>Fix diff</th>\n",
              "      <th>Calculated Float C/flow</th>\n",
              "      <th>QL Float C/flow</th>\n",
              "      <th>Float diff</th>\n",
              "    </tr>\n",
              "  </thead>\n",
              "  <tbody>\n",
              "    <tr>\n",
              "      <td>December 11th, 2015</td>\n",
              "      <td>62.0</td>\n",
              "      <td>0.247012</td>\n",
              "      <td>0.000400</td>\n",
              "      <td>0.999897</td>\n",
              "      <td>963.247078</td>\n",
              "      <td>985.833333</td>\n",
              "      <td>22.586255</td>\n",
              "      <td>98.809337</td>\n",
              "      <td>101.106056</td>\n",
              "      <td>2.296719</td>\n",
              "    </tr>\n",
              "    <tr>\n",
              "      <td>March 11th, 2016</td>\n",
              "      <td>61.0</td>\n",
              "      <td>0.243028</td>\n",
              "      <td>0.004607</td>\n",
              "      <td>0.998735</td>\n",
              "      <td>946.610249</td>\n",
              "      <td>985.833333</td>\n",
              "      <td>39.223085</td>\n",
              "      <td>1118.321693</td>\n",
              "      <td>1162.660220</td>\n",
              "      <td>44.338527</td>\n",
              "    </tr>\n",
              "    <tr>\n",
              "      <td>June 13th, 2016</td>\n",
              "      <td>65.0</td>\n",
              "      <td>0.258964</td>\n",
              "      <td>0.004625</td>\n",
              "      <td>0.997533</td>\n",
              "      <td>1007.468474</td>\n",
              "      <td>1018.333333</td>\n",
              "      <td>10.864859</td>\n",
              "      <td>1194.747101</td>\n",
              "      <td>1205.573702</td>\n",
              "      <td>10.826601</td>\n",
              "    </tr>\n",
              "    <tr>\n",
              "      <td>September 12th, 2016</td>\n",
              "      <td>63.0</td>\n",
              "      <td>0.250996</td>\n",
              "      <td>0.006432</td>\n",
              "      <td>0.995917</td>\n",
              "      <td>974.888092</td>\n",
              "      <td>985.833333</td>\n",
              "      <td>10.945241</td>\n",
              "      <td>1607.926673</td>\n",
              "      <td>1622.086119</td>\n",
              "      <td>14.159446</td>\n",
              "    </tr>\n",
              "  </tbody>\n",
              "</table>\n",
              "</div>"
            ],
            "text/plain": [
              "                      Days in payment leg  Payment Fraction  Forward rate  \\\n",
              "December 11th, 2015                  62.0          0.247012      0.000400   \n",
              "March 11th, 2016                     61.0          0.243028      0.004607   \n",
              "June 13th, 2016                      65.0          0.258964      0.004625   \n",
              "September 12th, 2016                 63.0          0.250996      0.006432   \n",
              "\n",
              "                      Discount rate  Calculated Fix C/flow  QL Fix C/flow  \\\n",
              "December 11th, 2015        0.999897             963.247078     985.833333   \n",
              "March 11th, 2016           0.998735             946.610249     985.833333   \n",
              "June 13th, 2016            0.997533            1007.468474    1018.333333   \n",
              "September 12th, 2016       0.995917             974.888092     985.833333   \n",
              "\n",
              "                       Fix diff  Calculated Float C/flow  QL Float C/flow  \\\n",
              "December 11th, 2015   22.586255                98.809337       101.106056   \n",
              "March 11th, 2016      39.223085              1118.321693      1162.660220   \n",
              "June 13th, 2016       10.864859              1194.747101      1205.573702   \n",
              "September 12th, 2016  10.945241              1607.926673      1622.086119   \n",
              "\n",
              "                      Float diff  \n",
              "December 11th, 2015     2.296719  \n",
              "March 11th, 2016       44.338527  \n",
              "June 13th, 2016        10.826601  \n",
              "September 12th, 2016   14.159446  "
            ]
          },
          "metadata": {
            "tags": []
          },
          "execution_count": 7
        }
      ]
    },
    {
      "cell_type": "markdown",
      "metadata": {
        "id": "PrEgbQgdRyGF",
        "colab_type": "text"
      },
      "source": [
        "### Valuation date 7th January 2016 (add fixing)"
      ]
    },
    {
      "cell_type": "code",
      "metadata": {
        "id": "SnTWycKgRyGG",
        "colab_type": "code",
        "outputId": "6f4291e1-771d-41b6-c245-77336cdf32a5",
        "colab": {}
      },
      "source": [
        "df = df.iloc[0:0]\n",
        "\n",
        "fixing_date = calendar.advance(settlement_date, Period(-1*settlement_days, Days))\n",
        "print(fixing_date)\n",
        "advance_by = calendar.businessDaysBetween(settlement_date, Date(7,1,2016))\n",
        "calc_date = calendar.advance(settlement_date, Period(advance_by,Days))\n",
        "print(calc_date)\n",
        "while (fixing_date < calc_date):\n",
        "    if (libor_3M_index.isValidFixingDate(fixing_date)):\n",
        "        fixing_rate = forward_curve.forwardRate(fixing_date, TARGET().advance(fixing_date,1,Days), Actual360(), Simple).rate()\n",
        "        libor_3M_index.addFixing(fixing_date, fixing_rate, True)\n",
        "        #print(fixing_date, fixing_rate)\n",
        "        fixing_date = calendar.advance(fixing_date, Period(1,Days))\n",
        "    else:\n",
        "        fixing_date = calendar.advance(fixing_date, Period(1,Days))\n",
        "        \n",
        "\n"
      ],
      "execution_count": 0,
      "outputs": [
        {
          "output_type": "stream",
          "text": [
            "September 9th, 2015\n",
            "January 7th, 2016\n"
          ],
          "name": "stdout"
        }
      ]
    },
    {
      "cell_type": "code",
      "metadata": {
        "id": "tV4fLQuyRyGL",
        "colab_type": "code",
        "colab": {}
      },
      "source": [
        "Settings.instance().evaluationDate = calc_date"
      ],
      "execution_count": 0,
      "outputs": []
    },
    {
      "cell_type": "code",
      "metadata": {
        "id": "MGCCxalsRyGR",
        "colab_type": "code",
        "outputId": "7ef9343d-6a75-48ea-d2a3-87e0baa4bf2a",
        "colab": {}
      },
      "source": [
        "discount_curve = ql.PiecewiseLogLinearDiscount(calc_date, rate_helpers, day_count)\n",
        "swap_pricing_libor_curve.linkTo(discount_curve)\n",
        "\n",
        "print (ir_swap.NPV())\n",
        "print(ir_swap.fairRate())\n",
        "\n",
        "col01='Days in payment leg'\n",
        "col02='Payment Fraction'\n",
        "col03='Forward rate'\n",
        "col04='Discount rate'\n",
        "col05='Calculated Fix C/flow'\n",
        "col06='QL Fix C/flow'\n",
        "col07='Fix diff'\n",
        "col08='Calculated Float C/flow'\n",
        "col09='QL Float C/flow'\n",
        "col10='Float diff'\n",
        "df = pd.DataFrame(columns=[col01, col02, col03, col04, col05, col06, col07, col08, col09, col10])\n",
        "\n",
        "previous_payment_date = settlement_date\n",
        "for fix, flt in zip(ir_swap.leg(0),ir_swap.leg(1)):\n",
        "    print(fix.date())\n",
        "    elapsed_days = int(calendar.businessDaysBetween(previous_payment_date, flt.date()))\n",
        "    forward_rate = forward_curve.forwardRate(previous_payment_date, flt.date(), day_count, ql.Compounded).rate()\n",
        "    payment_fraction = elapsed_days/total_days\n",
        "    equiv_fwd_rate = forward_rate * payment_fraction\n",
        "    discount_rate = forward_curve.discount(flt.date())\n",
        "    calculated_fixed_cash_flow = notional * fixed_rate * payment_fraction * discount_rate\n",
        "    calculated_float_cash_flow = notional * equiv_fwd_rate * discount_rate\n",
        "    previous_payment_date = flt.date()\n",
        "    df.loc[fix.date()] = [\n",
        "        elapsed_days, \n",
        "        payment_fraction, \n",
        "        forward_rate, \n",
        "        discount_rate,\n",
        "        calculated_fixed_cash_flow,\n",
        "        fix.amount(),\n",
        "        (fix.amount() - calculated_fixed_cash_flow),\n",
        "        calculated_float_cash_flow,\n",
        "        flt.amount(),\n",
        "        (flt.amount() - calculated_float_cash_flow),\n",
        "   ]\n",
        "df"
      ],
      "execution_count": 0,
      "outputs": [
        {
          "output_type": "stream",
          "text": [
            "-890.7196646672974\n",
            "0.002737011895371293\n",
            "December 11th, 2015\n",
            "March 11th, 2016\n",
            "June 13th, 2016\n",
            "September 12th, 2016\n"
          ],
          "name": "stdout"
        },
        {
          "output_type": "execute_result",
          "data": {
            "text/html": [
              "<div>\n",
              "<style scoped>\n",
              "    .dataframe tbody tr th:only-of-type {\n",
              "        vertical-align: middle;\n",
              "    }\n",
              "\n",
              "    .dataframe tbody tr th {\n",
              "        vertical-align: top;\n",
              "    }\n",
              "\n",
              "    .dataframe thead th {\n",
              "        text-align: right;\n",
              "    }\n",
              "</style>\n",
              "<table border=\"1\" class=\"dataframe\">\n",
              "  <thead>\n",
              "    <tr style=\"text-align: right;\">\n",
              "      <th></th>\n",
              "      <th>Days in payment leg</th>\n",
              "      <th>Payment Fraction</th>\n",
              "      <th>Forward rate</th>\n",
              "      <th>Discount rate</th>\n",
              "      <th>Calculated Fix C/flow</th>\n",
              "      <th>QL Fix C/flow</th>\n",
              "      <th>Fix diff</th>\n",
              "      <th>Calculated Float C/flow</th>\n",
              "      <th>QL Float C/flow</th>\n",
              "      <th>Float diff</th>\n",
              "    </tr>\n",
              "  </thead>\n",
              "  <tbody>\n",
              "    <tr>\n",
              "      <td>December 11th, 2015</td>\n",
              "      <td>62.0</td>\n",
              "      <td>0.247012</td>\n",
              "      <td>0.000400</td>\n",
              "      <td>0.999897</td>\n",
              "      <td>963.247078</td>\n",
              "      <td>985.833333</td>\n",
              "      <td>22.586255</td>\n",
              "      <td>98.809337</td>\n",
              "      <td>101.106056</td>\n",
              "      <td>2.296719</td>\n",
              "    </tr>\n",
              "    <tr>\n",
              "      <td>March 11th, 2016</td>\n",
              "      <td>61.0</td>\n",
              "      <td>0.243028</td>\n",
              "      <td>0.000400</td>\n",
              "      <td>0.999796</td>\n",
              "      <td>947.615020</td>\n",
              "      <td>985.833333</td>\n",
              "      <td>38.218313</td>\n",
              "      <td>97.205810</td>\n",
              "      <td>101.106056</td>\n",
              "      <td>3.900246</td>\n",
              "    </tr>\n",
              "    <tr>\n",
              "      <td>June 13th, 2016</td>\n",
              "      <td>65.0</td>\n",
              "      <td>0.258964</td>\n",
              "      <td>0.003218</td>\n",
              "      <td>0.998957</td>\n",
              "      <td>1008.906989</td>\n",
              "      <td>1018.333333</td>\n",
              "      <td>9.426344</td>\n",
              "      <td>832.464969</td>\n",
              "      <td>839.245726</td>\n",
              "      <td>6.780757</td>\n",
              "    </tr>\n",
              "    <tr>\n",
              "      <td>September 12th, 2016</td>\n",
              "      <td>63.0</td>\n",
              "      <td>0.250996</td>\n",
              "      <td>0.004593</td>\n",
              "      <td>0.997801</td>\n",
              "      <td>976.731606</td>\n",
              "      <td>985.833333</td>\n",
              "      <td>9.101727</td>\n",
              "      <td>1150.328390</td>\n",
              "      <td>1159.060681</td>\n",
              "      <td>8.732291</td>\n",
              "    </tr>\n",
              "  </tbody>\n",
              "</table>\n",
              "</div>"
            ],
            "text/plain": [
              "                      Days in payment leg  Payment Fraction  Forward rate  \\\n",
              "December 11th, 2015                  62.0          0.247012      0.000400   \n",
              "March 11th, 2016                     61.0          0.243028      0.000400   \n",
              "June 13th, 2016                      65.0          0.258964      0.003218   \n",
              "September 12th, 2016                 63.0          0.250996      0.004593   \n",
              "\n",
              "                      Discount rate  Calculated Fix C/flow  QL Fix C/flow  \\\n",
              "December 11th, 2015        0.999897             963.247078     985.833333   \n",
              "March 11th, 2016           0.999796             947.615020     985.833333   \n",
              "June 13th, 2016            0.998957            1008.906989    1018.333333   \n",
              "September 12th, 2016       0.997801             976.731606     985.833333   \n",
              "\n",
              "                       Fix diff  Calculated Float C/flow  QL Float C/flow  \\\n",
              "December 11th, 2015   22.586255                98.809337       101.106056   \n",
              "March 11th, 2016      38.218313                97.205810       101.106056   \n",
              "June 13th, 2016        9.426344               832.464969       839.245726   \n",
              "September 12th, 2016   9.101727              1150.328390      1159.060681   \n",
              "\n",
              "                      Float diff  \n",
              "December 11th, 2015     2.296719  \n",
              "March 11th, 2016        3.900246  \n",
              "June 13th, 2016         6.780757  \n",
              "September 12th, 2016    8.732291  "
            ]
          },
          "metadata": {
            "tags": []
          },
          "execution_count": 13
        }
      ]
    },
    {
      "cell_type": "markdown",
      "metadata": {
        "id": "ZFqxLJHaRyGW",
        "colab_type": "text"
      },
      "source": [
        "import pandas as pd\n",
        "col01='Days in payment leg'\n",
        "col02='Payment Fraction'\n",
        "col03='Forward rate'\n",
        "col04='Discount rate'\n",
        "col05='Calculated Fix C/flow'\n",
        "col06='QL Fix C/flow'\n",
        "col07='Fix diff'\n",
        "col08='Calculated Float C/flow'\n",
        "col09='QL Float C/flow'\n",
        "col10='Float diff'\n",
        "df = pd.DataFrame(columns=[col01, col02, col03, col04, col05, col06, col07, col08, col09, col10])\n",
        "\n",
        "previous_payment_date = settlement_date\n",
        "total_days = calendar.businessDaysBetween(settlement_date, maturity_date)\n",
        "for fix, flt in zip(ir_swap.leg(0),ir_swap.leg(1)):\n",
        "    elapsed_days = int(calendar.businessDaysBetween(previous_payment_date, flt.date()))\n",
        "    forward_rate = forward_curve.forwardRate(previous_payment_date, flt.date(), day_count, ql.Compounded).rate()\n",
        "    payment_fraction = elapsed_days/total_days\n",
        "    equiv_fwd_rate = forward_rate * payment_fraction\n",
        "    discount_rate = forward_curve.discount(flt.date())\n",
        "    calculated_fixed_cash_flow = notional * fixed_rate * payment_fraction * discount_rate\n",
        "    calculated_float_cash_flow = notional * equiv_fwd_rate * discount_rate\n",
        "    df.loc[fix.date()] = [\n",
        "        elapsed_days, \n",
        "        payment_fraction, \n",
        "        forward_rate, \n",
        "        discount_rate,\n",
        "        calculated_fixed_cash_flow,\n",
        "        fix.amount(),\n",
        "        (fix.amount() - calculated_fixed_cash_flow),\n",
        "        calculated_float_cash_flow,\n",
        "        flt.amount(),\n",
        "        (flt.amount() - calculated_float_cash_flow),\n",
        "   ]\n",
        "    \n",
        "    previous_payment_date = flt.date()\n",
        "df\n",
        "    \n",
        "    "
      ]
    },
    {
      "cell_type": "markdown",
      "metadata": {
        "id": "Dec9wzm_RyGY",
        "colab_type": "text"
      },
      "source": [
        "### Valuation date 23rd April 2016 (add fixing)"
      ]
    },
    {
      "cell_type": "code",
      "metadata": {
        "id": "4_hTPKJiRyGa",
        "colab_type": "code",
        "outputId": "d3f644c5-4e9c-4d7a-a558-daad7c9fe12b",
        "colab": {}
      },
      "source": [
        "df = df.iloc[0:0]\n",
        "\n",
        "fixing_date = calendar.advance(settlement_date, Period(-1*settlement_days, Days))\n",
        "print(fixing_date)\n",
        "advance_by = calendar.businessDaysBetween(settlement_date, Date(23,4,2016))\n",
        "calc_date = calendar.advance(settlement_date, Period(advance_by,Days))\n",
        "print(calc_date)\n",
        "while (fixing_date < calc_date):\n",
        "    if (libor_3M_index.isValidFixingDate(fixing_date)):\n",
        "        fixing_rate = forward_curve.forwardRate(fixing_date, TARGET().advance(fixing_date,1,Days), Actual360(), Simple).rate()\n",
        "        libor_3M_index.addFixing(fixing_date, fixing_rate, True)\n",
        "        #print(fixing_date, fixing_rate)\n",
        "        fixing_date = calendar.advance(fixing_date, Period(1,Days))\n",
        "    else:\n",
        "        fixing_date = calendar.advance(fixing_date, Period(1,Days))\n",
        "        \n"
      ],
      "execution_count": 0,
      "outputs": [
        {
          "output_type": "stream",
          "text": [
            "September 9th, 2015\n",
            "April 25th, 2016\n"
          ],
          "name": "stdout"
        }
      ]
    },
    {
      "cell_type": "code",
      "metadata": {
        "id": "RI9THTMDRyGf",
        "colab_type": "code",
        "colab": {}
      },
      "source": [
        "Settings.instance().evaluationDate = calc_date"
      ],
      "execution_count": 0,
      "outputs": []
    },
    {
      "cell_type": "code",
      "metadata": {
        "id": "gHPF4oLkRyGj",
        "colab_type": "code",
        "outputId": "81f72059-23a2-4213-b3de-f1f9c64b0b03",
        "colab": {}
      },
      "source": [
        "discount_curve = ql.PiecewiseLogLinearDiscount(calc_date, rate_helpers, day_count)\n",
        "swap_pricing_libor_curve.linkTo(discount_curve)\n",
        "\n",
        "print (ir_swap.NPV())\n",
        "print(ir_swap.fairRate())\n",
        "\n",
        "col01='Days in payment leg'\n",
        "col02='Payment Fraction'\n",
        "col03='Forward rate'\n",
        "col04='Discount rate'\n",
        "col05='Calculated Fix C/flow'\n",
        "col06='QL Fix C/flow'\n",
        "col07='Fix diff'\n",
        "col08='Calculated Float C/flow'\n",
        "col09='QL Float C/flow'\n",
        "col10='Float diff'\n",
        "df = pd.DataFrame(columns=[col01, col02, col03, col04, col05, col06, col07, col08, col09, col10])\n",
        "\n",
        "previous_payment_date = settlement_date\n",
        "for fix, flt in zip(ir_swap.leg(0),ir_swap.leg(1)):\n",
        "    print(fix.date())\n",
        "    elapsed_days = int(calendar.businessDaysBetween(previous_payment_date, flt.date()))\n",
        "    forward_rate = forward_curve.forwardRate(previous_payment_date, flt.date(), day_count, ql.Compounded).rate()\n",
        "    payment_fraction = elapsed_days/total_days\n",
        "    equiv_fwd_rate = forward_rate * payment_fraction\n",
        "    discount_rate = forward_curve.discount(flt.date())\n",
        "    calculated_fixed_cash_flow = notional * fixed_rate * payment_fraction * discount_rate\n",
        "    calculated_float_cash_flow = notional * equiv_fwd_rate * discount_rate\n",
        "    previous_payment_date = flt.date()\n",
        "    df.loc[fix.date()] = [\n",
        "        elapsed_days, \n",
        "        payment_fraction, \n",
        "        forward_rate, \n",
        "        discount_rate,\n",
        "        calculated_fixed_cash_flow,\n",
        "        fix.amount(),\n",
        "        (fix.amount() - calculated_fixed_cash_flow),\n",
        "        calculated_float_cash_flow,\n",
        "        flt.amount(),\n",
        "        (flt.amount() - calculated_float_cash_flow),\n",
        "   ]\n",
        "df"
      ],
      "execution_count": 0,
      "outputs": [
        {
          "output_type": "stream",
          "text": [
            "-1253.1788403366695\n",
            "0.001460473948487446\n",
            "December 11th, 2015\n",
            "March 11th, 2016\n",
            "June 13th, 2016\n",
            "September 12th, 2016\n"
          ],
          "name": "stdout"
        },
        {
          "output_type": "execute_result",
          "data": {
            "text/html": [
              "<div>\n",
              "<style scoped>\n",
              "    .dataframe tbody tr th:only-of-type {\n",
              "        vertical-align: middle;\n",
              "    }\n",
              "\n",
              "    .dataframe tbody tr th {\n",
              "        vertical-align: top;\n",
              "    }\n",
              "\n",
              "    .dataframe thead th {\n",
              "        text-align: right;\n",
              "    }\n",
              "</style>\n",
              "<table border=\"1\" class=\"dataframe\">\n",
              "  <thead>\n",
              "    <tr style=\"text-align: right;\">\n",
              "      <th></th>\n",
              "      <th>Days in payment leg</th>\n",
              "      <th>Payment Fraction</th>\n",
              "      <th>Forward rate</th>\n",
              "      <th>Discount rate</th>\n",
              "      <th>Calculated Fix C/flow</th>\n",
              "      <th>QL Fix C/flow</th>\n",
              "      <th>Fix diff</th>\n",
              "      <th>Calculated Float C/flow</th>\n",
              "      <th>QL Float C/flow</th>\n",
              "      <th>Float diff</th>\n",
              "    </tr>\n",
              "  </thead>\n",
              "  <tbody>\n",
              "    <tr>\n",
              "      <td>December 11th, 2015</td>\n",
              "      <td>62.0</td>\n",
              "      <td>0.247012</td>\n",
              "      <td>0.000400</td>\n",
              "      <td>0.999897</td>\n",
              "      <td>963.247078</td>\n",
              "      <td>985.833333</td>\n",
              "      <td>22.586255</td>\n",
              "      <td>98.809337</td>\n",
              "      <td>101.106056</td>\n",
              "      <td>2.296719</td>\n",
              "    </tr>\n",
              "    <tr>\n",
              "      <td>March 11th, 2016</td>\n",
              "      <td>61.0</td>\n",
              "      <td>0.243028</td>\n",
              "      <td>0.000400</td>\n",
              "      <td>0.999796</td>\n",
              "      <td>947.615020</td>\n",
              "      <td>985.833333</td>\n",
              "      <td>38.218313</td>\n",
              "      <td>97.205810</td>\n",
              "      <td>101.106056</td>\n",
              "      <td>3.900246</td>\n",
              "    </tr>\n",
              "    <tr>\n",
              "      <td>June 13th, 2016</td>\n",
              "      <td>65.0</td>\n",
              "      <td>0.258964</td>\n",
              "      <td>0.000400</td>\n",
              "      <td>0.999691</td>\n",
              "      <td>1009.648258</td>\n",
              "      <td>1018.333333</td>\n",
              "      <td>8.685076</td>\n",
              "      <td>103.569144</td>\n",
              "      <td>104.439223</td>\n",
              "      <td>0.870079</td>\n",
              "    </tr>\n",
              "    <tr>\n",
              "      <td>September 12th, 2016</td>\n",
              "      <td>63.0</td>\n",
              "      <td>0.250996</td>\n",
              "      <td>0.002559</td>\n",
              "      <td>0.999046</td>\n",
              "      <td>977.950146</td>\n",
              "      <td>985.833333</td>\n",
              "      <td>7.883187</td>\n",
              "      <td>641.705881</td>\n",
              "      <td>646.261066</td>\n",
              "      <td>4.555185</td>\n",
              "    </tr>\n",
              "  </tbody>\n",
              "</table>\n",
              "</div>"
            ],
            "text/plain": [
              "                      Days in payment leg  Payment Fraction  Forward rate  \\\n",
              "December 11th, 2015                  62.0          0.247012      0.000400   \n",
              "March 11th, 2016                     61.0          0.243028      0.000400   \n",
              "June 13th, 2016                      65.0          0.258964      0.000400   \n",
              "September 12th, 2016                 63.0          0.250996      0.002559   \n",
              "\n",
              "                      Discount rate  Calculated Fix C/flow  QL Fix C/flow  \\\n",
              "December 11th, 2015        0.999897             963.247078     985.833333   \n",
              "March 11th, 2016           0.999796             947.615020     985.833333   \n",
              "June 13th, 2016            0.999691            1009.648258    1018.333333   \n",
              "September 12th, 2016       0.999046             977.950146     985.833333   \n",
              "\n",
              "                       Fix diff  Calculated Float C/flow  QL Float C/flow  \\\n",
              "December 11th, 2015   22.586255                98.809337       101.106056   \n",
              "March 11th, 2016      38.218313                97.205810       101.106056   \n",
              "June 13th, 2016        8.685076               103.569144       104.439223   \n",
              "September 12th, 2016   7.883187               641.705881       646.261066   \n",
              "\n",
              "                      Float diff  \n",
              "December 11th, 2015     2.296719  \n",
              "March 11th, 2016        3.900246  \n",
              "June 13th, 2016         0.870079  \n",
              "September 12th, 2016    4.555185  "
            ]
          },
          "metadata": {
            "tags": []
          },
          "execution_count": 16
        }
      ]
    },
    {
      "cell_type": "markdown",
      "metadata": {
        "id": "aTrTDmExRyGw",
        "colab_type": "text"
      },
      "source": [
        "### Valuation date 22nf June 2016 (add fixing)"
      ]
    },
    {
      "cell_type": "code",
      "metadata": {
        "id": "9DNQUqduRyGx",
        "colab_type": "code",
        "outputId": "2f27055e-4460-4552-b8f6-043f99933a65",
        "colab": {}
      },
      "source": [
        "df = df.iloc[0:0]\n",
        "\n",
        "fixing_date = calendar.advance(settlement_date, Period(-1*settlement_days, Days))\n",
        "print(fixing_date)\n",
        "advance_by = calendar.businessDaysBetween(settlement_date, Date(22,6,2016))\n",
        "calc_date = calendar.advance(settlement_date, Period(advance_by,Days))\n",
        "print(calc_date)\n",
        "while (fixing_date < calc_date):\n",
        "    if (libor_3M_index.isValidFixingDate(fixing_date)):\n",
        "        fixing_rate = forward_curve.forwardRate(fixing_date, TARGET().advance(fixing_date,1,Days), Actual360(), Simple).rate()\n",
        "        libor_3M_index.addFixing(fixing_date, fixing_rate, True)\n",
        "        #print(fixing_date, fixing_rate)\n",
        "        fixing_date = calendar.advance(fixing_date, Period(1,Days))\n",
        "    else:\n",
        "        fixing_date = calendar.advance(fixing_date, Period(1,Days))\n",
        "        \n"
      ],
      "execution_count": 0,
      "outputs": [
        {
          "output_type": "stream",
          "text": [
            "September 9th, 2015\n",
            "June 22nd, 2016\n"
          ],
          "name": "stdout"
        }
      ]
    },
    {
      "cell_type": "code",
      "metadata": {
        "id": "gdTpFpueRyG1",
        "colab_type": "code",
        "colab": {}
      },
      "source": [
        "Settings.instance().evaluationDate = calc_date"
      ],
      "execution_count": 0,
      "outputs": []
    },
    {
      "cell_type": "code",
      "metadata": {
        "id": "UvIAzDZZRyG4",
        "colab_type": "code",
        "outputId": "f8db4626-0646-453e-9ac6-797195c60fd8",
        "colab": {}
      },
      "source": [
        "discount_curve = ql.PiecewiseLogLinearDiscount(calc_date, rate_helpers, day_count)\n",
        "swap_pricing_libor_curve.linkTo(discount_curve)\n",
        "\n",
        "print (ir_swap.NPV())\n",
        "print(ir_swap.fairRate())\n",
        "\n",
        "col01='Days in payment leg'\n",
        "col02='Payment Fraction'\n",
        "col03='Forward rate'\n",
        "col04='Discount rate'\n",
        "col05='Calculated Fix C/flow'\n",
        "col06='QL Fix C/flow'\n",
        "col07='Fix diff'\n",
        "col08='Calculated Float C/flow'\n",
        "col09='QL Float C/flow'\n",
        "col10='Float diff'\n",
        "df = pd.DataFrame(columns=[col01, col02, col03, col04, col05, col06, col07, col08, col09, col10])\n",
        "\n",
        "previous_payment_date = settlement_date\n",
        "for fix, flt in zip(ir_swap.leg(0),ir_swap.leg(1)):\n",
        "    print(fix.date())\n",
        "    elapsed_days = int(calendar.businessDaysBetween(previous_payment_date, flt.date()))\n",
        "    forward_rate = forward_curve.forwardRate(previous_payment_date, flt.date(), day_count, ql.Compounded).rate()\n",
        "    payment_fraction = elapsed_days/total_days\n",
        "    equiv_fwd_rate = forward_rate * payment_fraction\n",
        "    discount_rate = forward_curve.discount(flt.date())\n",
        "    calculated_fixed_cash_flow = notional * fixed_rate * payment_fraction * discount_rate\n",
        "    calculated_float_cash_flow = notional * equiv_fwd_rate * discount_rate\n",
        "    previous_payment_date = flt.date()\n",
        "    df.loc[fix.date()] = [\n",
        "        elapsed_days, \n",
        "        payment_fraction, \n",
        "        forward_rate, \n",
        "        discount_rate,\n",
        "        calculated_fixed_cash_flow,\n",
        "        fix.amount(),\n",
        "        (fix.amount() - calculated_fixed_cash_flow),\n",
        "        calculated_float_cash_flow,\n",
        "        flt.amount(),\n",
        "        (flt.amount() - calculated_float_cash_flow),\n",
        "   ]\n",
        "df"
      ],
      "execution_count": 0,
      "outputs": [
        {
          "output_type": "stream",
          "text": [
            "-884.6466767401291\n",
            "0.0003999800013602421\n",
            "December 11th, 2015\n",
            "March 11th, 2016\n",
            "June 13th, 2016\n",
            "September 12th, 2016\n"
          ],
          "name": "stdout"
        },
        {
          "output_type": "execute_result",
          "data": {
            "text/html": [
              "<div>\n",
              "<style scoped>\n",
              "    .dataframe tbody tr th:only-of-type {\n",
              "        vertical-align: middle;\n",
              "    }\n",
              "\n",
              "    .dataframe tbody tr th {\n",
              "        vertical-align: top;\n",
              "    }\n",
              "\n",
              "    .dataframe thead th {\n",
              "        text-align: right;\n",
              "    }\n",
              "</style>\n",
              "<table border=\"1\" class=\"dataframe\">\n",
              "  <thead>\n",
              "    <tr style=\"text-align: right;\">\n",
              "      <th></th>\n",
              "      <th>Days in payment leg</th>\n",
              "      <th>Payment Fraction</th>\n",
              "      <th>Forward rate</th>\n",
              "      <th>Discount rate</th>\n",
              "      <th>Calculated Fix C/flow</th>\n",
              "      <th>QL Fix C/flow</th>\n",
              "      <th>Fix diff</th>\n",
              "      <th>Calculated Float C/flow</th>\n",
              "      <th>QL Float C/flow</th>\n",
              "      <th>Float diff</th>\n",
              "    </tr>\n",
              "  </thead>\n",
              "  <tbody>\n",
              "    <tr>\n",
              "      <td>December 11th, 2015</td>\n",
              "      <td>62.0</td>\n",
              "      <td>0.247012</td>\n",
              "      <td>0.0004</td>\n",
              "      <td>0.999897</td>\n",
              "      <td>963.247078</td>\n",
              "      <td>985.833333</td>\n",
              "      <td>22.586255</td>\n",
              "      <td>98.809282</td>\n",
              "      <td>101.106056</td>\n",
              "      <td>2.296773</td>\n",
              "    </tr>\n",
              "    <tr>\n",
              "      <td>March 11th, 2016</td>\n",
              "      <td>61.0</td>\n",
              "      <td>0.243028</td>\n",
              "      <td>0.0004</td>\n",
              "      <td>0.999796</td>\n",
              "      <td>947.615020</td>\n",
              "      <td>985.833333</td>\n",
              "      <td>38.218313</td>\n",
              "      <td>97.205756</td>\n",
              "      <td>101.106056</td>\n",
              "      <td>3.900300</td>\n",
              "    </tr>\n",
              "    <tr>\n",
              "      <td>June 13th, 2016</td>\n",
              "      <td>65.0</td>\n",
              "      <td>0.258964</td>\n",
              "      <td>0.0004</td>\n",
              "      <td>0.999691</td>\n",
              "      <td>1009.648258</td>\n",
              "      <td>1018.333333</td>\n",
              "      <td>8.685075</td>\n",
              "      <td>103.569086</td>\n",
              "      <td>104.439223</td>\n",
              "      <td>0.870136</td>\n",
              "    </tr>\n",
              "    <tr>\n",
              "      <td>September 12th, 2016</td>\n",
              "      <td>63.0</td>\n",
              "      <td>0.250996</td>\n",
              "      <td>0.0004</td>\n",
              "      <td>0.999590</td>\n",
              "      <td>978.483222</td>\n",
              "      <td>985.833333</td>\n",
              "      <td>7.350111</td>\n",
              "      <td>100.372197</td>\n",
              "      <td>101.106056</td>\n",
              "      <td>0.733859</td>\n",
              "    </tr>\n",
              "  </tbody>\n",
              "</table>\n",
              "</div>"
            ],
            "text/plain": [
              "                      Days in payment leg  Payment Fraction  Forward rate  \\\n",
              "December 11th, 2015                  62.0          0.247012        0.0004   \n",
              "March 11th, 2016                     61.0          0.243028        0.0004   \n",
              "June 13th, 2016                      65.0          0.258964        0.0004   \n",
              "September 12th, 2016                 63.0          0.250996        0.0004   \n",
              "\n",
              "                      Discount rate  Calculated Fix C/flow  QL Fix C/flow  \\\n",
              "December 11th, 2015        0.999897             963.247078     985.833333   \n",
              "March 11th, 2016           0.999796             947.615020     985.833333   \n",
              "June 13th, 2016            0.999691            1009.648258    1018.333333   \n",
              "September 12th, 2016       0.999590             978.483222     985.833333   \n",
              "\n",
              "                       Fix diff  Calculated Float C/flow  QL Float C/flow  \\\n",
              "December 11th, 2015   22.586255                98.809282       101.106056   \n",
              "March 11th, 2016      38.218313                97.205756       101.106056   \n",
              "June 13th, 2016        8.685075               103.569086       104.439223   \n",
              "September 12th, 2016   7.350111               100.372197       101.106056   \n",
              "\n",
              "                      Float diff  \n",
              "December 11th, 2015     2.296773  \n",
              "March 11th, 2016        3.900300  \n",
              "June 13th, 2016         0.870136  \n",
              "September 12th, 2016    0.733859  "
            ]
          },
          "metadata": {
            "tags": []
          },
          "execution_count": 20
        }
      ]
    },
    {
      "cell_type": "markdown",
      "metadata": {
        "id": "SjMfAwuaRyG8",
        "colab_type": "text"
      },
      "source": [
        "### Valuation date 5th September 2016 (add fixing)"
      ]
    },
    {
      "cell_type": "code",
      "metadata": {
        "id": "LvhHpgx1RyG-",
        "colab_type": "code",
        "outputId": "3e054cb9-940b-4700-ab07-0064d75509ea",
        "colab": {}
      },
      "source": [
        "df = df.iloc[0:0]\n",
        "\n",
        "fixing_date = calendar.advance(settlement_date, Period(-1*settlement_days, Days))\n",
        "print(fixing_date)\n",
        "advance_by = calendar.businessDaysBetween(settlement_date, Date(5,9,2016))\n",
        "calc_date = calendar.advance(settlement_date, Period(advance_by,Days))\n",
        "print(calc_date)\n",
        "while (fixing_date < calc_date):\n",
        "    if (libor_3M_index.isValidFixingDate(fixing_date)):\n",
        "        fixing_rate = forward_curve.forwardRate(fixing_date, TARGET().advance(fixing_date,1,Days), Actual360(), Simple).rate()\n",
        "        libor_3M_index.addFixing(fixing_date, fixing_rate, True)\n",
        "        #print(fixing_date, fixing_rate)\n",
        "        fixing_date = calendar.advance(fixing_date, Period(1,Days))\n",
        "    else:\n",
        "        fixing_date = calendar.advance(fixing_date, Period(1,Days))\n",
        "        \n"
      ],
      "execution_count": 0,
      "outputs": [
        {
          "output_type": "stream",
          "text": [
            "September 9th, 2015\n",
            "September 6th, 2016\n"
          ],
          "name": "stdout"
        }
      ]
    },
    {
      "cell_type": "code",
      "metadata": {
        "id": "VWaxPuqnRyHB",
        "colab_type": "code",
        "colab": {}
      },
      "source": [
        "Settings.instance().evaluationDate = calc_date"
      ],
      "execution_count": 0,
      "outputs": []
    },
    {
      "cell_type": "code",
      "metadata": {
        "id": "XjwYOk-KRyHE",
        "colab_type": "code",
        "outputId": "d9b33118-3d14-4fae-eda9-ce4437b224fb",
        "colab": {}
      },
      "source": [
        "discount_curve = ql.PiecewiseLogLinearDiscount(calc_date, rate_helpers, day_count)\n",
        "swap_pricing_libor_curve.linkTo(discount_curve)\n",
        "\n",
        "print (ir_swap.NPV())\n",
        "print(ir_swap.fairRate())\n",
        "\n",
        "col01='Days in payment leg'\n",
        "col02='Payment Fraction'\n",
        "col03='Forward rate'\n",
        "col04='Discount rate'\n",
        "col05='Calculated Fix C/flow'\n",
        "col06='QL Fix C/flow'\n",
        "col07='Fix diff'\n",
        "col08='Calculated Float C/flow'\n",
        "col09='QL Float C/flow'\n",
        "col10='Float diff'\n",
        "df = pd.DataFrame(columns=[col01, col02, col03, col04, col05, col06, col07, col08, col09, col10])\n",
        "\n",
        "previous_payment_date = settlement_date\n",
        "for fix, flt in zip(ir_swap.leg(0),ir_swap.leg(1)):\n",
        "    print(fix.date())\n",
        "    elapsed_days = int(calendar.businessDaysBetween(previous_payment_date, flt.date()))\n",
        "    forward_rate = forward_curve.forwardRate(previous_payment_date, flt.date(), day_count, ql.Compounded).rate()\n",
        "    payment_fraction = elapsed_days/total_days\n",
        "    equiv_fwd_rate = forward_rate * payment_fraction\n",
        "    discount_rate = forward_curve.discount(flt.date())\n",
        "    calculated_fixed_cash_flow = notional * fixed_rate * payment_fraction * discount_rate\n",
        "    calculated_float_cash_flow = notional * equiv_fwd_rate * discount_rate\n",
        "    previous_payment_date = flt.date()\n",
        "    df.loc[fix.date()] = [\n",
        "        elapsed_days, \n",
        "        payment_fraction, \n",
        "        forward_rate, \n",
        "        discount_rate,\n",
        "        calculated_fixed_cash_flow,\n",
        "        fix.amount(),\n",
        "        (fix.amount() - calculated_fixed_cash_flow),\n",
        "        calculated_float_cash_flow,\n",
        "        flt.amount(),\n",
        "        (flt.amount() - calculated_float_cash_flow),\n",
        "   ]\n",
        "df"
      ],
      "execution_count": 0,
      "outputs": [
        {
          "output_type": "stream",
          "text": [
            "-884.7214357423887\n",
            "0.00039997977913800147\n",
            "December 11th, 2015\n",
            "March 11th, 2016\n",
            "June 13th, 2016\n",
            "September 12th, 2016\n"
          ],
          "name": "stdout"
        },
        {
          "output_type": "execute_result",
          "data": {
            "text/html": [
              "<div>\n",
              "<style scoped>\n",
              "    .dataframe tbody tr th:only-of-type {\n",
              "        vertical-align: middle;\n",
              "    }\n",
              "\n",
              "    .dataframe tbody tr th {\n",
              "        vertical-align: top;\n",
              "    }\n",
              "\n",
              "    .dataframe thead th {\n",
              "        text-align: right;\n",
              "    }\n",
              "</style>\n",
              "<table border=\"1\" class=\"dataframe\">\n",
              "  <thead>\n",
              "    <tr style=\"text-align: right;\">\n",
              "      <th></th>\n",
              "      <th>Days in payment leg</th>\n",
              "      <th>Payment Fraction</th>\n",
              "      <th>Forward rate</th>\n",
              "      <th>Discount rate</th>\n",
              "      <th>Calculated Fix C/flow</th>\n",
              "      <th>QL Fix C/flow</th>\n",
              "      <th>Fix diff</th>\n",
              "      <th>Calculated Float C/flow</th>\n",
              "      <th>QL Float C/flow</th>\n",
              "      <th>Float diff</th>\n",
              "    </tr>\n",
              "  </thead>\n",
              "  <tbody>\n",
              "    <tr>\n",
              "      <td>December 11th, 2015</td>\n",
              "      <td>62.0</td>\n",
              "      <td>0.247012</td>\n",
              "      <td>0.0004</td>\n",
              "      <td>0.999897</td>\n",
              "      <td>963.247078</td>\n",
              "      <td>985.833333</td>\n",
              "      <td>22.586255</td>\n",
              "      <td>98.809337</td>\n",
              "      <td>101.106000</td>\n",
              "      <td>2.296662</td>\n",
              "    </tr>\n",
              "    <tr>\n",
              "      <td>March 11th, 2016</td>\n",
              "      <td>61.0</td>\n",
              "      <td>0.243028</td>\n",
              "      <td>0.0004</td>\n",
              "      <td>0.999796</td>\n",
              "      <td>947.615020</td>\n",
              "      <td>985.833333</td>\n",
              "      <td>38.218313</td>\n",
              "      <td>97.205810</td>\n",
              "      <td>101.106000</td>\n",
              "      <td>3.900190</td>\n",
              "    </tr>\n",
              "    <tr>\n",
              "      <td>June 13th, 2016</td>\n",
              "      <td>65.0</td>\n",
              "      <td>0.258964</td>\n",
              "      <td>0.0004</td>\n",
              "      <td>0.999691</td>\n",
              "      <td>1009.648258</td>\n",
              "      <td>1018.333333</td>\n",
              "      <td>8.685076</td>\n",
              "      <td>103.569144</td>\n",
              "      <td>104.439165</td>\n",
              "      <td>0.870021</td>\n",
              "    </tr>\n",
              "    <tr>\n",
              "      <td>September 12th, 2016</td>\n",
              "      <td>63.0</td>\n",
              "      <td>0.250996</td>\n",
              "      <td>0.0004</td>\n",
              "      <td>0.999590</td>\n",
              "      <td>978.483222</td>\n",
              "      <td>985.833333</td>\n",
              "      <td>7.350111</td>\n",
              "      <td>100.372252</td>\n",
              "      <td>101.106000</td>\n",
              "      <td>0.733747</td>\n",
              "    </tr>\n",
              "  </tbody>\n",
              "</table>\n",
              "</div>"
            ],
            "text/plain": [
              "                      Days in payment leg  Payment Fraction  Forward rate  \\\n",
              "December 11th, 2015                  62.0          0.247012        0.0004   \n",
              "March 11th, 2016                     61.0          0.243028        0.0004   \n",
              "June 13th, 2016                      65.0          0.258964        0.0004   \n",
              "September 12th, 2016                 63.0          0.250996        0.0004   \n",
              "\n",
              "                      Discount rate  Calculated Fix C/flow  QL Fix C/flow  \\\n",
              "December 11th, 2015        0.999897             963.247078     985.833333   \n",
              "March 11th, 2016           0.999796             947.615020     985.833333   \n",
              "June 13th, 2016            0.999691            1009.648258    1018.333333   \n",
              "September 12th, 2016       0.999590             978.483222     985.833333   \n",
              "\n",
              "                       Fix diff  Calculated Float C/flow  QL Float C/flow  \\\n",
              "December 11th, 2015   22.586255                98.809337       101.106000   \n",
              "March 11th, 2016      38.218313                97.205810       101.106000   \n",
              "June 13th, 2016        8.685076               103.569144       104.439165   \n",
              "September 12th, 2016   7.350111               100.372252       101.106000   \n",
              "\n",
              "                      Float diff  \n",
              "December 11th, 2015     2.296662  \n",
              "March 11th, 2016        3.900190  \n",
              "June 13th, 2016         0.870021  \n",
              "September 12th, 2016    0.733747  "
            ]
          },
          "metadata": {
            "tags": []
          },
          "execution_count": 23
        }
      ]
    },
    {
      "cell_type": "code",
      "metadata": {
        "id": "RTqC26o6riJm",
        "colab_type": "code",
        "colab": {}
      },
      "source": [
        ""
      ],
      "execution_count": 0,
      "outputs": []
    }
  ]
}